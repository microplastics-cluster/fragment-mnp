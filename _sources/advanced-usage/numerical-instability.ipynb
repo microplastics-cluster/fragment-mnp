{
 "cells": [
  {
   "attachments": {},
   "cell_type": "markdown",
   "metadata": {},
   "source": [
    "# Dealing with numerical instability\n",
    "\n",
    "Internally, the FRAGMENT-MNP model uses a [numerical solver](https://docs.scipy.org/doc/scipy/reference/generated/scipy.integrate.solve_ivp.html) to solve an initial value problem for the [system of ODEs that form the model](https://microplastics-cluster.github.io/fragment-mnp/developers/api.html#fragment-mnp-model).\n",
    "\n",
    "For certain input parameter ranges, care needs to be taken to avoid the solution becoming unstable. This is particularly relevant when mass concentrations in a certain size class trend asymptotically towards zero, in which case the system can be described as [\"stiff\"](https://en.wikipedia.org/wiki/Stiff_equation). The model provides two ways of dealing with this:\n",
    "* Changing the integration method used by specifying the [`ode_solver_method`](config:ode_solver_method) config option. The available methods are those [provided by SciPy](https://docs.scipy.org/doc/scipy/reference/generated/scipy.integrate.solve_ivp.html). \"Radau\", \"BDF\" and \"LSODA\" are particularly well suited to stiff problems.\n",
    "* Changing the error tolerances by specifying the [`rtol` and `atol`](config:rtol-atol) config options."
   ]
  }
 ],
 "metadata": {
  "kernelspec": {
   "display_name": "fmnp",
   "language": "python",
   "name": "python3"
  },
  "language_info": {
   "name": "python",
   "version": "3.9.15"
  },
  "orig_nbformat": 4,
  "vscode": {
   "interpreter": {
    "hash": "69dd372a24e54e9600bac3ad5e46763986c7d36f9d8d0c50694bd13dd958e51a"
   }
  }
 },
 "nbformat": 4,
 "nbformat_minor": 2
}
