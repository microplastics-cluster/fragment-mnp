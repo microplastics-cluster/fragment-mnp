{
 "cells": [
  {
   "cell_type": "markdown",
   "metadata": {},
   "source": [
    "# Model configuration\n",
    "\n",
    "When initialising the {class}`fragmentmnp.FragmentMNP` model class, a config dict must be provided. Examples are given in the {mod}`fragmentmnp.examples` module:"
   ]
  },
  {
   "cell_type": "code",
   "execution_count": 1,
   "metadata": {},
   "outputs": [
    {
     "data": {
      "text/plain": [
       "{'n_size_classes': 7, 'particle_size_range': [-9, -3], 'n_timesteps': 100}"
      ]
     },
     "execution_count": 1,
     "metadata": {},
     "output_type": "execute_result"
    }
   ],
   "source": [
    "from fragmentmnp.examples import minimal_config, full_config\n",
    "minimal_config"
   ]
  },
  {
   "cell_type": "code",
   "execution_count": 2,
   "metadata": {},
   "outputs": [
    {
     "data": {
      "text/plain": [
       "{'n_size_classes': 7,\n",
       " 'particle_size_range': [-9, -3],\n",
       " 'n_timesteps': 100,\n",
       " 'dt': 1,\n",
       " 'solver_method': 'RK45',\n",
       " 'solver_rtol': 0.001,\n",
       " 'solver_atol': 1e-06,\n",
       " 'solver_max_step': inf,\n",
       " 'solver_t_eval': 'timesteps'}"
      ]
     },
     "execution_count": 2,
     "metadata": {},
     "output_type": "execute_result"
    }
   ],
   "source": [
    "full_config"
   ]
  },
  {
   "cell_type": "markdown",
   "metadata": {},
   "source": [
    "The `minimal_config` contains only required variables, whilst `full_config` includes variables that have defaults. Here we take a look at the schema for this config dict.\n",
    "\n",
    "`n_size_classes`\n",
    ": *Required, int, less than or equal to 100.*\n",
    ": The number of bins the model should use for particle size distributions.\n",
    "\n",
    "`particle_size_classes`\n",
    ": *Optional, list of int or floats of length `n_size_classes`, units: m.*\n",
    ": The mean diameter of each particle size class. If `particle_size_classes` is not specified, then `particle_size_range` will be used to calculate this diameters instead. Note that whilst `particle_size_range` requires exponents of 10 to be provided, `particle_size_classes` requires absolute values.\n",
    "\n",
    "`particle_size_range`\n",
    ": *Optional, list/tuple of int or floats of length 2, units: m.*\n",
    ": The particle size range that should be included in the model in the format [min, max]. The values given are used as the exponent of 10, so, for example, `[-9, -3]` results in a size range of 10e-9 m to 10e-3 m (1 nm to 1 mm). The size class bins themselves will be deduced by evenly splitting the range by `n_size_classes` on a log scale. If neither `particle_size_range` nor `particle_size_classes` is specified, you will get an error.\n",
    "\n",
    "`n_timesteps`\n",
    ": *Required, int.*\n",
    ": The number of timesteps to run the model for.\n",
    "\n",
    "`dt`\n",
    ": *Optional, int, units: s, default: 1*.\n",
    ": The length of each timestep. Defaults to 1 second. The model time grid uses the midpoint of these timesteps, and therefore is calculated as `t_grid = np.arange(0.5*dt, n_timesteps*dt, 0.5*dt)`.\n",
    "\n",
    "(config:solver_method)=\n",
    "`solver_method`\n",
    ": *Optional, str equal to a valid method, default: \"RK45\".*\n",
    ": The method that is used to numerically solve the model differential equation. This method is passed directly to [`scipy.intergrate.solve_ivp`](https://docs.scipy.org/doc/scipy/reference/generated/scipy.integrate.solve_ivp.html) and must be a valid method available in SciPy (\"RK45\", \"RK23\", \"DOP853\", \"Radau\", \"BDF\" or \"LSODA\"). By default, LSODA is used. See the [SciPy documentation](https://docs.scipy.org/doc/scipy/reference/generated/scipy.integrate.solve_ivp.html) for more details. If you are having numerical stability issues, try \"Radau\", \"BDF\" or \"LSODA\", and read [](./advanced-usage/numerical-instability.ipynb).\n",
    "\n",
    "(config:solver_rtol_atol)=\n",
    "`solver_rtol`, `solver_atol`\n",
    ": *Optional, float or list of floats for atol, defaults: rtol=1e-3, atol=1e-6*\n",
    ": Relative and absolute tolerances passed to [scipy.integrate.solve_ivp](https://docs.scipy.org/doc/scipy/reference/generated/scipy.integrate.solve_ivp.html). The solver keeps the local error estimates less than `solver_atol + solver_rtol * abs(y)`. For `solver_atol`, a list of length `n_size_classes` can be given, such that a different absolute tolerance is used for each size class. Setting these tolerances might be particularly useful for stiff problems that cause numerical instability.\n",
    "\n",
    "(config:solver_max_step)=\n",
    "`solver_max_step`\n",
    ": *Optional, float, default: `np.inf`.*\n",
    ": Set a maximum step size for the ODE solver. This might be particularly useful for stiff problems that cause numerical instability.\n",
    "\n",
    "(config:solver_t_eval)=\n",
    "`solver_t_eval`\n",
    ": *Optional, str equal to \"timesteps\", None, or list of integers or floats, default: \"timesteps\".*\n",
    ": Time points at which to store the computed solution, passed to [scipy.integrate.solve_ivp](https://docs.scipy.org/doc/scipy/reference/generated/scipy.integrate.solve_ivp.html). If the string \"timesteps\" is provided, the model stores the model timesteps deduced from the `n_timestep` and `dt` config options, i.e. `solver_t_eval = np.arange(0, n_timesteps, dt)`. If `None`, the points selected by the solver are used (which might be controlled by the `solver_max_step` option). If a list of integers or floats is provided, these are used directly as the time points. An error will be thrown if these lie outside of the model time span."
   ]
  }
 ],
 "metadata": {
  "kernelspec": {
   "display_name": "fmnp",
   "language": "python",
   "name": "python3"
  },
  "language_info": {
   "codemirror_mode": {
    "name": "ipython",
    "version": 3
   },
   "file_extension": ".py",
   "mimetype": "text/x-python",
   "name": "python",
   "nbconvert_exporter": "python",
   "pygments_lexer": "ipython3",
   "version": "3.12.8"
  }
 },
 "nbformat": 4,
 "nbformat_minor": 2
}
